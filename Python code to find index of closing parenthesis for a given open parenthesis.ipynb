{
 "cells": [
  {
   "cell_type": "markdown",
   "metadata": {},
   "source": [
    "# To find index of closing parenthesis for a given open parenthesis"
   ]
  },
  {
   "cell_type": "code",
   "execution_count": 116,
   "metadata": {
    "ExecuteTime": {
     "end_time": "2020-01-17T04:52:29.131451Z",
     "start_time": "2020-01-17T04:52:29.092425Z"
    }
   },
   "outputs": [],
   "source": [
    "def getCloseIndex (sentence, index_of_open_parenthesis):\n",
    "    \n",
    "    #print(sentence[index_of_open_parenthesis])\n",
    "    \n",
    "    # check whether the input is valid\n",
    "    if (sentence[index_of_open_parenthesis] != '('):\n",
    "        return('error - incorrect index of opening parenthesis')\n",
    "    \n",
    "    count = 1\n",
    "    \n",
    "    # traverse through all the elements in the sentence starting from the given index of opening parenthesis\n",
    "    for word in range(index_of_open_parenthesis, len(sentence)):\n",
    "        #print(word)\n",
    "        \n",
    "        # for every opening parenthesis, increase the count by 1\n",
    "        if (sentence[word] == '('):\n",
    "            count+=1\n",
    "            #print(sentence[word])\n",
    "            #print(count)\n",
    "        \n",
    "        # for every closing parenthesis, decrease the count by 1\n",
    "        elif (sentence[word] == ')'):\n",
    "            count-=1\n",
    "            #print(sentence[word])\n",
    "            #print(count)\n",
    "            \n",
    "        # if the count is equal to 1, matched closing parenthesis is found\n",
    "        if(count == 1):\n",
    "            return word\n",
    "    \n",
    "    "
   ]
  },
  {
   "cell_type": "code",
   "execution_count": 117,
   "metadata": {
    "ExecuteTime": {
     "end_time": "2020-01-17T04:52:29.551638Z",
     "start_time": "2020-01-17T04:52:29.547635Z"
    }
   },
   "outputs": [
    {
     "name": "stdout",
     "output_type": "stream",
     "text": [
      "64\n"
     ]
    }
   ],
   "source": [
    "closing_parenthesis_index = getCloseIndex(\"In the meantime (the required information (important (Table 1a))) are required by them.\", 16)\n",
    "\n",
    "print(closing_parenthesis_index)"
   ]
  },
  {
   "cell_type": "code",
   "execution_count": 119,
   "metadata": {
    "ExecuteTime": {
     "end_time": "2020-01-17T04:52:50.359782Z",
     "start_time": "2020-01-17T04:52:50.355779Z"
    }
   },
   "outputs": [
    {
     "name": "stdout",
     "output_type": "stream",
     "text": [
      ")\n"
     ]
    }
   ],
   "source": [
    "sent = \"In the meantime (the required information (important (Table 1a))) are required by them.\"\n",
    "print(sent[64])"
   ]
  },
  {
   "cell_type": "code",
   "execution_count": null,
   "metadata": {},
   "outputs": [],
   "source": []
  },
  {
   "cell_type": "markdown",
   "metadata": {},
   "source": [
    "# Reference code from GeeksForGeeks"
   ]
  },
  {
   "cell_type": "code",
   "execution_count": 24,
   "metadata": {
    "ExecuteTime": {
     "end_time": "2020-01-16T11:14:13.884013Z",
     "start_time": "2020-01-16T11:14:13.873006Z"
    }
   },
   "outputs": [
    {
     "name": "stdout",
     "output_type": "stream",
     "text": [
      "[ABC[23]][89], 0: 8\n",
      "[ABC[23]][89], 4: 7\n",
      "[ABC[23]][89], 9: 12\n",
      "[ABC[23]][89], 1: -1\n"
     ]
    }
   ],
   "source": [
    "from collections import deque \n",
    "  \n",
    "def getIndex(s, i): \n",
    "  \n",
    "    # If input is invalid. \n",
    "    if s[i] != '[': \n",
    "        return -1\n",
    "  \n",
    "    # Create a deque to use it as a stack. \n",
    "    d = deque() \n",
    "  \n",
    "    # Traverse through all elements \n",
    "    # starting from i. \n",
    "    for k in range(i, len(s)): \n",
    "  \n",
    "        # Pop a starting bracket \n",
    "        # for every closing bracket \n",
    "        if s[k] == ']': \n",
    "            d.popleft() \n",
    "  \n",
    "        # Push all starting brackets \n",
    "        elif s[k] == '[': \n",
    "            d.append(s[i]) \n",
    "  \n",
    "        # If deque becomes empty \n",
    "        if not d: \n",
    "            return k \n",
    "  \n",
    "    return -1\n",
    "  \n",
    "# Driver code to test above method. \n",
    "def test(s, i): \n",
    "    matching_index = getIndex(s, i) \n",
    "    print(s + \", \" + str(i) + \": \" + str(matching_index)) \n",
    "    \n",
    "    \n",
    "def main(): \n",
    "    test(\"[ABC[23]][89]\", 0) # should be 8 \n",
    "    test(\"[ABC[23]][89]\", 4) # should be 7 \n",
    "    test(\"[ABC[23]][89]\", 9) # should be 12 \n",
    "    test(\"[ABC[23]][89]\", 1) # No matching bracket \n",
    "if __name__ == \"__main__\": \n",
    "    main()"
   ]
  },
  {
   "cell_type": "code",
   "execution_count": null,
   "metadata": {},
   "outputs": [],
   "source": []
  },
  {
   "cell_type": "code",
   "execution_count": null,
   "metadata": {},
   "outputs": [],
   "source": [
    "public int findClosingParen(char[] text, int openPos) {\n",
    "    int closePos = openPos;\n",
    "    int counter = 1;\n",
    "    while (counter > 0) {\n",
    "        char c = text[++closePos];\n",
    "        if (c == '(') {\n",
    "            counter++;\n",
    "        }\n",
    "        else if (c == ')') {\n",
    "            counter--;\n",
    "        }\n",
    "    }\n",
    "    return closePos;\n",
    "}"
   ]
  }
 ],
 "metadata": {
  "kernelspec": {
   "display_name": "Python 3",
   "language": "python",
   "name": "python3"
  },
  "language_info": {
   "codemirror_mode": {
    "name": "ipython",
    "version": 3
   },
   "file_extension": ".py",
   "mimetype": "text/x-python",
   "name": "python",
   "nbconvert_exporter": "python",
   "pygments_lexer": "ipython3",
   "version": "3.7.5"
  },
  "toc": {
   "base_numbering": 1,
   "nav_menu": {},
   "number_sections": true,
   "sideBar": true,
   "skip_h1_title": false,
   "title_cell": "Table of Contents",
   "title_sidebar": "Contents",
   "toc_cell": false,
   "toc_position": {},
   "toc_section_display": true,
   "toc_window_display": false
  }
 },
 "nbformat": 4,
 "nbformat_minor": 2
}
